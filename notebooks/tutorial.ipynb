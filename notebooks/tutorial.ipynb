{
 "cells": [
  {
   "cell_type": "code",
   "execution_count": null,
   "id": "a7c85894",
   "metadata": {},
   "outputs": [],
   "source": [
    "# Geometric Shape Detection - Complete Tutorial\n",
    "\n",
    "This notebook demonstrates the complete workflow for training and using the geometric shape detection model.\n",
    "\n",
    "## 📚 Table of Contents\n",
    "1. Setup and Installation\n",
    "2. Dataset Generation\n",
    "3. Data Exploration\n",
    "4. Model Training\n",
    "5. Evaluation\n",
    "6. Making Predictions\n",
    "7. API Usage\n",
    "\n",
    "## 1. Setup and Installation\n",
    "\n",
    "First, let's import all necessary libraries:"
   ]
  }
 ],
 "metadata": {
  "language_info": {
   "name": "python"
  }
 },
 "nbformat": 4,
 "nbformat_minor": 5
}
